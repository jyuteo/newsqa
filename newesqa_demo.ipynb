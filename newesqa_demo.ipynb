{
 "cells": [
  {
   "cell_type": "code",
   "execution_count": 75,
   "metadata": {},
   "outputs": [],
   "source": [
    "import torch\n",
    "from collections import OrderedDict\n",
    "from transformers import DistilBertTokenizerFast\n",
    "from transformers import DistilBertForQuestionAnswering"
   ]
  },
  {
   "cell_type": "markdown",
   "metadata": {},
   "source": [
    "## distilbert-base-uncased"
   ]
  },
  {
   "cell_type": "code",
   "execution_count": 86,
   "metadata": {},
   "outputs": [],
   "source": [
    "tokenizer = DistilBertTokenizerFast.from_pretrained('distilbert-base-uncased')\n",
    "model = torch.load('models/distilbert-base-uncased/newsqa_ep2.pt')"
   ]
  },
  {
   "cell_type": "markdown",
   "metadata": {},
   "source": [
    "ep2 best"
   ]
  },
  {
   "cell_type": "markdown",
   "metadata": {},
   "source": [
    "## distilbert-base-cased-distilled-squad"
   ]
  },
  {
   "cell_type": "code",
   "execution_count": 115,
   "metadata": {},
   "outputs": [],
   "source": [
    "tokenizer = DistilBertTokenizerFast.from_pretrained('distilbert-base-cased-distilled-squad')\n",
    "model = torch.load('models/distilbert-base-cased-distilled-squad/newsqa_ep21.pt')"
   ]
  },
  {
   "cell_type": "markdown",
   "metadata": {},
   "source": [
    "ep16 best"
   ]
  },
  {
   "cell_type": "code",
   "execution_count": 6,
   "metadata": {},
   "outputs": [],
   "source": [
    "def get_answer(model, tokenizer, context, question):\n",
    "    encoding = tokenizer.encode_plus(question, context)\n",
    "    input_ids, attention_mask = encoding[\"input_ids\"], encoding[\"attention_mask\"]\n",
    "    output = model(torch.tensor([input_ids]), attention_mask=torch.tensor([attention_mask]))\n",
    "    start_scores = output.start_logits\n",
    "    end_scores = output.end_logits\n",
    "\n",
    "    ans_tokens = input_ids[torch.argmax(start_scores) : torch.argmax(end_scores)+1]\n",
    "    answer_tokens = tokenizer.convert_ids_to_tokens(ans_tokens , skip_special_tokens=True)\n",
    "\n",
    "    answer_tokens_to_string = tokenizer.convert_tokens_to_string(answer_tokens)\n",
    "    \n",
    "    print (\"\\nQuestion \",question)\n",
    "    print (\"\\nAnswer : \",answer_tokens_to_string)"
   ]
  },
  {
   "cell_type": "markdown",
   "metadata": {},
   "source": [
    "## Demo"
   ]
  },
  {
   "cell_type": "code",
   "execution_count": 116,
   "metadata": {},
   "outputs": [
    {
     "name": "stdout",
     "output_type": "stream",
     "text": [
      "\n",
      "Question  How many cases does US have?\n",
      "\n",
      "Answer :  637, 000 confirmed Covid - 19 cases\n"
     ]
    }
   ],
   "source": [
    "passage1 = \"The US has passed the peak on new coronavirus cases, \" \\\n",
    "          \"President Donald Trump said and predicted that some states would reopen this month. \" \\\n",
    "          \"The US has over 637,000 confirmed Covid-19 cases and over 30,826 deaths, the highest for any country in the world.\"\n",
    "\n",
    "question1 = \"How many cases does US have?\"\n",
    "\n",
    "get_answer(model, tokenizer, passage1, question1)"
   ]
  },
  {
   "cell_type": "code",
   "execution_count": 117,
   "metadata": {},
   "outputs": [
    {
     "name": "stdout",
     "output_type": "stream",
     "text": [
      "\n",
      "Question  What Dr Balakrishnan stressed?\n",
      "\n",
      "Answer :  continued importance of contract tracing and the widespread use of TraceTogether, saying\n"
     ]
    }
   ],
   "source": [
    "passage2 = \"\"\"\n",
    "In his speech on Tuesday, Dr Balakrishnan stressed the continued importance of contract tracing and the widespread use of TraceTogether, saying that such digital tools allow Singapore to break the chains of Covid-19 transmission by quickly identifying and isolating close contacts.\n",
    "\n",
    "TraceTogether reduces the time and resources needed to collect essential data for contact tracing, he said.\n",
    "\n",
    "Together with other digital contact-tracing systems such as SafeEntry, TraceTogether has shortened the average time required for contact tracing from four days to less than one-and-a-half days.\n",
    "\n",
    "In the recent case where a “cruise to nowhere” passenger tested positive for Covid-19 on board the Royal Carribean’s Quantum of the Seas, TraceTogether helped the authorities quickly identify more than three-quarters of the close contacts, although the passenger’s test result turned out to be a false positive, he added.\n",
    "\"\"\"\n",
    "\n",
    "question2 = \"What Dr Balakrishnan stressed?\"\n",
    "\n",
    "get_answer(model, tokenizer, passage2, question2)"
   ]
  },
  {
   "cell_type": "code",
   "execution_count": 118,
   "metadata": {},
   "outputs": [
    {
     "name": "stdout",
     "output_type": "stream",
     "text": [
      "\n",
      "Question  What is TraceTogether designed for?\n",
      "\n",
      "Answer :  contact - tracing purposes, ” Dr\n"
     ]
    }
   ],
   "source": [
    "passage3 = \"\"\"\n",
    "“TraceTogether was always designed for contact-tracing purposes,” Dr Balakrishnan said, pointing to the safeguards built into the system.\n",
    "\n",
    "He reiterated that TraceTogether does not collect geolocation data or movement data, and only collects proximity data that is purged automatically after 25 days.\n",
    "\n",
    "“The GovTech engineers and I took great pains to create an app that was fundamentally privacy-protecting at its core, privacy by design. We even open sourced the code and invited experts to tear down the TraceTogether token to prove this.“\n",
    "\n",
    "The Government also intends to deactivate TraceTogether, along with other digital contact-tracing programmes, once the pandemic ebbs, added Dr Balakrishnan, who is also Foreign Affairs Minister. \n",
    "\n",
    "The draft amendments to the law also specify that after the pandemic ends, public agencies must stop collecting contact-tracing data and delete any personalised contact-tracing information collected “as soon as reasonably practicable”.\n",
    "\n",
    "\"\"\"\n",
    "\n",
    "question3 = \"What is TraceTogether designed for?\"\n",
    "\n",
    "get_answer(model, tokenizer, passage3, question3)"
   ]
  },
  {
   "cell_type": "code",
   "execution_count": 119,
   "metadata": {},
   "outputs": [
    {
     "name": "stdout",
     "output_type": "stream",
     "text": [
      "\n",
      "Question  What did Beijing call for?\n",
      "\n",
      "Answer :  all parties in Myanmar to \" resolve their differences, \" and\n"
     ]
    }
   ],
   "source": [
    "passage4 = \"\"\"\n",
    "\n",
    "Myanmar military's power grab sets stage for Biden admin's first U.N. showdown with China and Russia\n",
    "\n",
    "February 2, 2021 / 7:29 AM / CBS/AFP\n",
    "\n",
    "Beijing — The military takeover in Myanmar and detention of Aung San Suu Kyi was \"a major cabinet reshuffle\" according to Chinese state media, which rolled out the euphemisms to avoid calling it a coup. As democratic leaders around the world slammed the Burmese military and President Joe Biden said the U.S. was \"taking note\" of who was standing up for Myanmar's people, China's communist leadership took a softly-softly approach.\n",
    "\n",
    "Beijing called for all parties in Myanmar to \"resolve their differences,\" and the official Xinhua news agency on Monday described the military replacing elected ministers after the coup as a \"major cabinet reshuffle.\"\n",
    "\n",
    "The nationalist Global Times meanwhile quoted unnamed experts as saying the generals' power-grab could be seen as \"an adjustment to the country's dysfunctional power structure.\"\n",
    "\n",
    "\"\"\"\n",
    "\n",
    "question4 = \"What did Beijing call for?\"\n",
    "\n",
    "get_answer(model, tokenizer, passage4, question4)"
   ]
  },
  {
   "cell_type": "code",
   "execution_count": null,
   "metadata": {},
   "outputs": [],
   "source": []
  }
 ],
 "metadata": {
  "kernelspec": {
   "display_name": "Python 3",
   "language": "python",
   "name": "python3"
  },
  "language_info": {
   "codemirror_mode": {
    "name": "ipython",
    "version": 3
   },
   "file_extension": ".py",
   "mimetype": "text/x-python",
   "name": "python",
   "nbconvert_exporter": "python",
   "pygments_lexer": "ipython3",
   "version": "3.8.5"
  }
 },
 "nbformat": 4,
 "nbformat_minor": 4
}
